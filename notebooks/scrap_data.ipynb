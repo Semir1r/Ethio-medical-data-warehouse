{
 "cells": [
  {
   "cell_type": "code",
   "execution_count": 39,
   "metadata": {},
   "outputs": [],
   "source": [
    "import os\n",
    "os.chdir('..')\n",
    "import warnings\n",
    "warnings.filterwarnings('ignore')\n",
    "import pandas as pd"
   ]
  },
  {
   "cell_type": "code",
   "execution_count": 42,
   "metadata": {},
   "outputs": [
    {
     "data": {
      "text/plain": [
       "<coroutine object start_scraping at 0x0000014A8EEFDCB0>"
      ]
     },
     "execution_count": 42,
     "metadata": {},
     "output_type": "execute_result"
    }
   ],
   "source": [
    "from scripts.scrap import start_scraping\n",
    "\n",
    "channel = ['@DoctorsET','@lobelia4cosmetics','@yetenaweg','@EAHCI','@CheMed123']\n",
    "start_scraping(channel)"
   ]
  },
  {
   "cell_type": "markdown",
   "metadata": {},
   "source": [
    "### Scrapped datasets"
   ]
  },
  {
   "cell_type": "code",
   "execution_count": null,
   "metadata": {},
   "outputs": [],
   "source": [
    "scrappedData = pd.read_csv('telegram_data.csv')\n",
    "\n",
    "scrappedData.head()"
   ]
  },
  {
   "cell_type": "markdown",
   "metadata": {},
   "source": [
    "### Data Cleaning"
   ]
  },
  {
   "cell_type": "code",
   "execution_count": null,
   "metadata": {},
   "outputs": [],
   "source": [
    "scrappedData.isnull().sum()"
   ]
  },
  {
   "cell_type": "code",
   "execution_count": null,
   "metadata": {},
   "outputs": [],
   "source": [
    "scrappedData.drop_duplicates(inplace=True)\n",
    "scrappedData.dropna(inplace=True)\n",
    "\n",
    "scrappedData.tail()"
   ]
  },
  {
   "cell_type": "markdown",
   "metadata": {},
   "source": [
    "## Object Detection Using YOLO"
   ]
  },
  {
   "cell_type": "code",
   "execution_count": 31,
   "metadata": {},
   "outputs": [
    {
     "name": "stdout",
     "output_type": "stream",
     "text": [
      "Attempting to open file: C:\\Users\\Semir AI Legend\\Desktop\\Ethio-medical-data-warehouse\\yolov5\\runs\\detect\\exp\\labels\\bus.txt\n",
      "Class ID: 0, Conf: 0.534941\n",
      "Class ID: 5, Conf: 0.849334\n",
      "Class ID: 0, Conf: 0.851563\n",
      "Class ID: 0, Conf: 0.870248\n",
      "Class ID: 0, Conf: 0.896172\n",
      "Attempting to open file: C:\\Users\\Semir AI Legend\\Desktop\\Ethio-medical-data-warehouse\\yolov5\\runs\\detect\\exp\\labels\\zidane.txt\n",
      "Class ID: 0, Conf: 0.666693\n",
      "Class ID: 27, Conf: 0.675119\n",
      "Class ID: 0, Conf: 0.879861\n"
     ]
    }
   ],
   "source": [
    "import os\n",
    "\n",
    "directory = r'C:\\Users\\Semir AI Legend\\Desktop\\Ethio-medical-data-warehouse\\yolov5\\runs\\detect\\exp\\labels'\n",
    "for filename in os.listdir(directory):\n",
    "    if filename.endswith('.txt'):  # Process only .txt files\n",
    "        file_path = os.path.join(directory, filename)  # Construct the full file path\n",
    "        print(f\"Attempting to open file: {file_path}\")\n",
    "        try:\n",
    "            with open(file_path) as f:\n",
    "                for line in f:\n",
    "                    class_id, x_center, y_center, width, height, conf = line.strip().split()\n",
    "                    print(f\"Class ID: {class_id}, Conf: {conf}\")  # Example processing\n",
    "        except FileNotFoundError:\n",
    "            print(f\"File {file_path} not found.\")\n"
   ]
  },
  {
   "cell_type": "code",
   "execution_count": null,
   "metadata": {},
   "outputs": [],
   "source": [
    "import os\n",
    "import pandas as pd\n",
    "\n",
    "# Define the directory where the label files are stored\n",
    "directory = r'C:\\Users\\Semir AI Legend\\Desktop\\Ethio-medical-data-warehouse\\yolov5\\runs\\detect\\exp\\labels'\n",
    "\n",
    "# Initialize an empty list to store the results\n",
    "results = []\n",
    "\n",
    "# Loop through all files in the directory\n",
    "for filename in os.listdir(directory):\n",
    "    if filename.endswith('.txt'):  # Process only .txt files\n",
    "        file_path = os.path.join(directory, filename)  # Full path for the file\n",
    "        try:\n",
    "            with open(file_path) as f:\n",
    "                for line in f:\n",
    "                    # Extract values from each line in the text file\n",
    "                    class_id, x_center, y_center, width, height, conf = line.strip().split()\n",
    "                    # Append the data along with the filename (image name) to the results list\n",
    "                    results.append([filename, class_id, x_center, y_center, width, height, conf])\n",
    "        except FileNotFoundError:\n",
    "            print(f\"File {filename} not found. Skipping.\")\n",
    "        except Exception as e:\n",
    "            print(f\"Error reading {filename}: {e}\")\n",
    "\n",
    "# Create a DataFrame from the results list\n",
    "df = pd.DataFrame(results, columns=['Image', 'Class', 'X_Center', 'Y_Center', 'Width', 'Height', 'Confidence'])\n",
    "\n",
    "# Save the results to a CSV file\n",
    "df.to_csv('detection_results.csv', index=False)\n",
    "\n",
    "print(\"Detection results saved to 'detection_results.csv'.\")"
   ]
  },
  {
   "cell_type": "code",
   "execution_count": null,
   "metadata": {},
   "outputs": [],
   "source": [
    "df = pd.DataFrame(results, columns=['Image', 'Class', 'X_Center', 'Y_Center', 'Width', 'Height', 'Confidence'])\n",
    "df.to_csv('detection_results.csv', index=False)"
   ]
  },
  {
   "cell_type": "code",
   "execution_count": 16,
   "metadata": {},
   "outputs": [
    {
     "data": {
      "text/html": [
       "<div>\n",
       "<style scoped>\n",
       "    .dataframe tbody tr th:only-of-type {\n",
       "        vertical-align: middle;\n",
       "    }\n",
       "\n",
       "    .dataframe tbody tr th {\n",
       "        vertical-align: top;\n",
       "    }\n",
       "\n",
       "    .dataframe thead th {\n",
       "        text-align: right;\n",
       "    }\n",
       "</style>\n",
       "<table border=\"1\" class=\"dataframe\">\n",
       "  <thead>\n",
       "    <tr style=\"text-align: right;\">\n",
       "      <th></th>\n",
       "      <th>Image</th>\n",
       "      <th>Class</th>\n",
       "      <th>X_Center</th>\n",
       "      <th>Y_Center</th>\n",
       "      <th>Width</th>\n",
       "      <th>Height</th>\n",
       "      <th>Confidence</th>\n",
       "    </tr>\n",
       "  </thead>\n",
       "  <tbody>\n",
       "    <tr>\n",
       "      <th>0</th>\n",
       "      <td>bus.txt</td>\n",
       "      <td>0</td>\n",
       "      <td>0.041975</td>\n",
       "      <td>0.660648</td>\n",
       "      <td>0.083951</td>\n",
       "      <td>0.299074</td>\n",
       "      <td>0.534941</td>\n",
       "    </tr>\n",
       "    <tr>\n",
       "      <th>1</th>\n",
       "      <td>bus.txt</td>\n",
       "      <td>5</td>\n",
       "      <td>0.508025</td>\n",
       "      <td>0.468519</td>\n",
       "      <td>0.983951</td>\n",
       "      <td>0.524074</td>\n",
       "      <td>0.849334</td>\n",
       "    </tr>\n",
       "    <tr>\n",
       "      <th>2</th>\n",
       "      <td>bus.txt</td>\n",
       "      <td>0</td>\n",
       "      <td>0.183333</td>\n",
       "      <td>0.602778</td>\n",
       "      <td>0.245679</td>\n",
       "      <td>0.483333</td>\n",
       "      <td>0.851563</td>\n",
       "    </tr>\n",
       "    <tr>\n",
       "      <th>3</th>\n",
       "      <td>bus.txt</td>\n",
       "      <td>0</td>\n",
       "      <td>0.350000</td>\n",
       "      <td>0.590278</td>\n",
       "      <td>0.154321</td>\n",
       "      <td>0.425000</td>\n",
       "      <td>0.870248</td>\n",
       "    </tr>\n",
       "    <tr>\n",
       "      <th>4</th>\n",
       "      <td>bus.txt</td>\n",
       "      <td>0</td>\n",
       "      <td>0.914815</td>\n",
       "      <td>0.589352</td>\n",
       "      <td>0.170370</td>\n",
       "      <td>0.447222</td>\n",
       "      <td>0.896172</td>\n",
       "    </tr>\n",
       "  </tbody>\n",
       "</table>\n",
       "</div>"
      ],
      "text/plain": [
       "     Image  Class  X_Center  Y_Center     Width    Height  Confidence\n",
       "0  bus.txt      0  0.041975  0.660648  0.083951  0.299074    0.534941\n",
       "1  bus.txt      5  0.508025  0.468519  0.983951  0.524074    0.849334\n",
       "2  bus.txt      0  0.183333  0.602778  0.245679  0.483333    0.851563\n",
       "3  bus.txt      0  0.350000  0.590278  0.154321  0.425000    0.870248\n",
       "4  bus.txt      0  0.914815  0.589352  0.170370  0.447222    0.896172"
      ]
     },
     "execution_count": 16,
     "metadata": {},
     "output_type": "execute_result"
    }
   ],
   "source": [
    "detectedImage= pd.read_csv('detection_results.csv')\n",
    "detectedImage.head()"
   ]
  },
  {
   "cell_type": "code",
   "execution_count": null,
   "metadata": {},
   "outputs": [],
   "source": [
    "detectedImage['Image'] = detectedImage['Image'].str.replace('@', '', regex=False)\n",
    "detectedImage['Image'] = detectedImage['Image'].str.replace('.txt', '', regex=False)"
   ]
  },
  {
   "cell_type": "code",
   "execution_count": null,
   "metadata": {},
   "outputs": [],
   "source": [
    "from  src.connectDatabase import export_detection_image_to_psql\n",
    "export_detection_image_to_psql(detectedImage)"
   ]
  },
  {
   "cell_type": "code",
   "execution_count": null,
   "metadata": {},
   "outputs": [],
   "source": [
    "from src.connectDatabase  import fetch_data_from_database\n",
    "dataFromDatabase=fetch_data_from_database()"
   ]
  },
  {
   "cell_type": "code",
   "execution_count": null,
   "metadata": {},
   "outputs": [],
   "source": [
    "dataFromDatabase.head(10)"
   ]
  }
 ],
 "metadata": {
  "kernelspec": {
   "display_name": "venv",
   "language": "python",
   "name": "python3"
  },
  "language_info": {
   "codemirror_mode": {
    "name": "ipython",
    "version": 3
   },
   "file_extension": ".py",
   "mimetype": "text/x-python",
   "name": "python",
   "nbconvert_exporter": "python",
   "pygments_lexer": "ipython3",
   "version": "3.13.1"
  }
 },
 "nbformat": 4,
 "nbformat_minor": 2
}
