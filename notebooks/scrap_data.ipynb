{
 "cells": [
  {
   "cell_type": "code",
   "execution_count": 1,
   "metadata": {},
   "outputs": [],
   "source": [
    "import os\n",
    "os.chdir('..')\n",
    "import warnings\n",
    "warnings.filterwarnings('ignore')\n",
    "import pandas as pd"
   ]
  },
  {
   "cell_type": "code",
   "execution_count": null,
   "metadata": {},
   "outputs": [],
   "source": [
    "from scripts.scrap import start_scraping"
   ]
  },
  {
   "cell_type": "code",
   "execution_count": 4,
   "metadata": {},
   "outputs": [
    {
     "name": "stderr",
     "output_type": "stream",
     "text": [
      "2025-01-31 22:32:15,215 - INFO - Scrapping data...\n",
      "2025-01-31 22:32:15,223 - INFO - Connecting to 149.154.167.51:443/TcpFull...\n",
      "2025-01-31 22:32:17,176 - INFO - Connection to 149.154.167.51:443/TcpFull complete!\n",
      "2025-01-31 22:32:30,233 - INFO - Phone migrated to 4\n",
      "2025-01-31 22:32:30,475 - INFO - Reconnecting to new data center 4\n",
      "2025-01-31 22:32:30,724 - INFO - Disconnecting from 149.154.167.51:443/TcpFull...\n",
      "2025-01-31 22:32:30,740 - INFO - Disconnection from 149.154.167.51:443/TcpFull complete!\n",
      "2025-01-31 22:32:30,743 - INFO - Connecting to 149.154.167.92:443/TcpFull...\n",
      "2025-01-31 22:32:33,235 - INFO - Connection to 149.154.167.92:443/TcpFull complete!\n"
     ]
    },
    {
     "name": "stdout",
     "output_type": "stream",
     "text": [
      "Signed in successfully as ኢብን ጋሜው; remember to not break the ToS or you will risk an account ban!\n",
      "Scraping historical data from @DoctorsET (Doctors Ethiopia)...\n"
     ]
    },
    {
     "name": "stderr",
     "output_type": "stream",
     "text": [
      "2025-01-31 22:33:18,989 - INFO - Finished scraping @DoctorsET\n"
     ]
    },
    {
     "name": "stdout",
     "output_type": "stream",
     "text": [
      "Scraping historical data from @lobelia4cosmetics (Lobelia pharmacy and cosmetics)...\n"
     ]
    },
    {
     "name": "stderr",
     "output_type": "stream",
     "text": [
      "2025-01-31 22:33:24,924 - INFO - Finished scraping @lobelia4cosmetics\n"
     ]
    },
    {
     "name": "stdout",
     "output_type": "stream",
     "text": [
      "Scraping historical data from @yetenaweg (የጤና ወግ - የጤና መረጃ)...\n"
     ]
    },
    {
     "name": "stderr",
     "output_type": "stream",
     "text": [
      "2025-01-31 22:33:26,106 - INFO - Finished scraping @yetenaweg\n"
     ]
    },
    {
     "name": "stdout",
     "output_type": "stream",
     "text": [
      "Scraping historical data from @EAHCI (ETHIO-AMERICAN MEDICAL TRAININGS( CPD ) & HEALTH CONSULTANCY CENTER)...\n"
     ]
    },
    {
     "name": "stderr",
     "output_type": "stream",
     "text": [
      "2025-01-31 22:33:27,098 - INFO - Finished scraping @EAHCI\n"
     ]
    },
    {
     "name": "stdout",
     "output_type": "stream",
     "text": [
      "Scraping historical data from @CheMed123 (CheMed)...\n"
     ]
    },
    {
     "name": "stderr",
     "output_type": "stream",
     "text": [
      "2025-01-31 22:33:28,487 - INFO - Finished scraping @CheMed123\n",
      "2025-01-31 22:33:28,487 - INFO - Listening for real-time messages...\n"
     ]
    }
   ],
   "source": [
    "channel = ['@DoctorsET','@lobelia4cosmetics','@yetenaweg','@EAHCI','@CheMed123']\n",
    "start_scraping(channel)"
   ]
  },
  {
   "cell_type": "markdown",
   "metadata": {},
   "source": [
    "### Scrapped datasets"
   ]
  },
  {
   "cell_type": "code",
   "execution_count": 5,
   "metadata": {},
   "outputs": [
    {
     "data": {
      "text/html": [
       "<div>\n",
       "<style scoped>\n",
       "    .dataframe tbody tr th:only-of-type {\n",
       "        vertical-align: middle;\n",
       "    }\n",
       "\n",
       "    .dataframe tbody tr th {\n",
       "        vertical-align: top;\n",
       "    }\n",
       "\n",
       "    .dataframe thead th {\n",
       "        text-align: right;\n",
       "    }\n",
       "</style>\n",
       "<table border=\"1\" class=\"dataframe\">\n",
       "  <thead>\n",
       "    <tr style=\"text-align: right;\">\n",
       "      <th></th>\n",
       "      <th>message_date</th>\n",
       "      <th>message_id</th>\n",
       "      <th>message_description</th>\n",
       "    </tr>\n",
       "  </thead>\n",
       "  <tbody>\n",
       "    <tr>\n",
       "      <th>0</th>\n",
       "      <td>2023-12-18 17:04:02</td>\n",
       "      <td>864</td>\n",
       "      <td>በቀን አንዴ ብቻ የሚባለው የቢዝነስ አማካሪ በ 10 000 ብር ብቻ የተጀ...</td>\n",
       "    </tr>\n",
       "    <tr>\n",
       "      <th>1</th>\n",
       "      <td>2023-11-03 16:14:39</td>\n",
       "      <td>863</td>\n",
       "      <td>ዶክተርስ ኢትዮጵያ በ አዲስ አቀራረብ በ ቴሌቪዥን ፕሮግራሙን ለመጀመር ከ...</td>\n",
       "    </tr>\n",
       "    <tr>\n",
       "      <th>2</th>\n",
       "      <td>2023-10-02 16:37:39</td>\n",
       "      <td>862</td>\n",
       "      <td>ሞት በስኳር ለልጆቻችን የምናሲዘው ምሳቃ ሳናቀው እድሚያቸውን ይቀንሰው ይ...</td>\n",
       "    </tr>\n",
       "    <tr>\n",
       "      <th>3</th>\n",
       "      <td>2023-09-16 07:54:32</td>\n",
       "      <td>861</td>\n",
       "      <td>ከ HIV የተፈወሰ ሰው አጋጥሟችሁ ያቃል ? ፈውስ እና ህክምና ? ሙሉ ቪ...</td>\n",
       "    </tr>\n",
       "    <tr>\n",
       "      <th>4</th>\n",
       "      <td>2023-09-01 16:16:15</td>\n",
       "      <td>860</td>\n",
       "      <td>በቅርብ ጊዜ በሃገራችን ላይ እየተስተዋለ ያለ የተመሳሳይ ፆታ Homosex...</td>\n",
       "    </tr>\n",
       "  </tbody>\n",
       "</table>\n",
       "</div>"
      ],
      "text/plain": [
       "          message_date  message_id  \\\n",
       "0  2023-12-18 17:04:02         864   \n",
       "1  2023-11-03 16:14:39         863   \n",
       "2  2023-10-02 16:37:39         862   \n",
       "3  2023-09-16 07:54:32         861   \n",
       "4  2023-09-01 16:16:15         860   \n",
       "\n",
       "                                 message_description  \n",
       "0  በቀን አንዴ ብቻ የሚባለው የቢዝነስ አማካሪ በ 10 000 ብር ብቻ የተጀ...  \n",
       "1  ዶክተርስ ኢትዮጵያ በ አዲስ አቀራረብ በ ቴሌቪዥን ፕሮግራሙን ለመጀመር ከ...  \n",
       "2  ሞት በስኳር ለልጆቻችን የምናሲዘው ምሳቃ ሳናቀው እድሚያቸውን ይቀንሰው ይ...  \n",
       "3  ከ HIV የተፈወሰ ሰው አጋጥሟችሁ ያቃል ? ፈውስ እና ህክምና ? ሙሉ ቪ...  \n",
       "4  በቅርብ ጊዜ በሃገራችን ላይ እየተስተዋለ ያለ የተመሳሳይ ፆታ Homosex...  "
      ]
     },
     "execution_count": 5,
     "metadata": {},
     "output_type": "execute_result"
    }
   ],
   "source": [
    "scrappedData = pd.read_csv('telegram_data.csv')\n",
    "\n",
    "scrappedData.head()"
   ]
  },
  {
   "cell_type": "markdown",
   "metadata": {},
   "source": [
    "### Data Cleaning"
   ]
  },
  {
   "cell_type": "code",
   "execution_count": 6,
   "metadata": {},
   "outputs": [
    {
     "data": {
      "text/plain": [
       "message_date           0\n",
       "message_id             0\n",
       "message_description    0\n",
       "dtype: int64"
      ]
     },
     "execution_count": 6,
     "metadata": {},
     "output_type": "execute_result"
    }
   ],
   "source": [
    "scrappedData.isnull().sum()"
   ]
  },
  {
   "cell_type": "code",
   "execution_count": 7,
   "metadata": {},
   "outputs": [
    {
     "data": {
      "text/html": [
       "<div>\n",
       "<style scoped>\n",
       "    .dataframe tbody tr th:only-of-type {\n",
       "        vertical-align: middle;\n",
       "    }\n",
       "\n",
       "    .dataframe tbody tr th {\n",
       "        vertical-align: top;\n",
       "    }\n",
       "\n",
       "    .dataframe thead th {\n",
       "        text-align: right;\n",
       "    }\n",
       "</style>\n",
       "<table border=\"1\" class=\"dataframe\">\n",
       "  <thead>\n",
       "    <tr style=\"text-align: right;\">\n",
       "      <th></th>\n",
       "      <th>message_date</th>\n",
       "      <th>message_id</th>\n",
       "      <th>message_description</th>\n",
       "    </tr>\n",
       "  </thead>\n",
       "  <tbody>\n",
       "    <tr>\n",
       "      <th>104</th>\n",
       "      <td>2022-12-28 06:31:50</td>\n",
       "      <td>67</td>\n",
       "      <td>Order your Power plus Vitamin and mineral supp...</td>\n",
       "    </tr>\n",
       "    <tr>\n",
       "      <th>105</th>\n",
       "      <td>2022-12-27 17:06:32</td>\n",
       "      <td>64</td>\n",
       "      <td>Che-Med Che-Med የመድሀኒትና የህክምና እቃዎች አፋላጊ እና አቅራ...</td>\n",
       "    </tr>\n",
       "    <tr>\n",
       "      <th>106</th>\n",
       "      <td>2022-12-25 15:46:05</td>\n",
       "      <td>62</td>\n",
       "      <td>የምስራች ከChe-Med ።።።።።።Che-Med አስታዋሽ።።።።።። Che-M...</td>\n",
       "    </tr>\n",
       "    <tr>\n",
       "      <th>107</th>\n",
       "      <td>2022-12-23 06:26:15</td>\n",
       "      <td>60</td>\n",
       "      <td>ቀጠሮ ያስይዙ በ ጥሪ ማዕከላችን 9798 በመደወል የዕንቅርት ህመም መቆጣ...</td>\n",
       "    </tr>\n",
       "    <tr>\n",
       "      <th>108</th>\n",
       "      <td>2022-12-22 06:40:25</td>\n",
       "      <td>59</td>\n",
       "      <td>ቀጠሮ ያስይዙ በ ጥሪ ማዕከላችን 9798 በመደወል የግፊት መድሃኒትዎን በ...</td>\n",
       "    </tr>\n",
       "  </tbody>\n",
       "</table>\n",
       "</div>"
      ],
      "text/plain": [
       "            message_date  message_id  \\\n",
       "104  2022-12-28 06:31:50          67   \n",
       "105  2022-12-27 17:06:32          64   \n",
       "106  2022-12-25 15:46:05          62   \n",
       "107  2022-12-23 06:26:15          60   \n",
       "108  2022-12-22 06:40:25          59   \n",
       "\n",
       "                                   message_description  \n",
       "104  Order your Power plus Vitamin and mineral supp...  \n",
       "105  Che-Med Che-Med የመድሀኒትና የህክምና እቃዎች አፋላጊ እና አቅራ...  \n",
       "106  የምስራች ከChe-Med ።።።።።።Che-Med አስታዋሽ።።።።።። Che-M...  \n",
       "107  ቀጠሮ ያስይዙ በ ጥሪ ማዕከላችን 9798 በመደወል የዕንቅርት ህመም መቆጣ...  \n",
       "108  ቀጠሮ ያስይዙ በ ጥሪ ማዕከላችን 9798 በመደወል የግፊት መድሃኒትዎን በ...  "
      ]
     },
     "execution_count": 7,
     "metadata": {},
     "output_type": "execute_result"
    }
   ],
   "source": [
    "scrappedData.drop_duplicates(inplace=True)\n",
    "scrappedData.dropna(inplace=True)\n",
    "\n",
    "scrappedData.tail()"
   ]
  }
 ],
 "metadata": {
  "kernelspec": {
   "display_name": "venv",
   "language": "python",
   "name": "python3"
  },
  "language_info": {
   "codemirror_mode": {
    "name": "ipython",
    "version": 3
   },
   "file_extension": ".py",
   "mimetype": "text/x-python",
   "name": "python",
   "nbconvert_exporter": "python",
   "pygments_lexer": "ipython3",
   "version": "3.12.0"
  }
 },
 "nbformat": 4,
 "nbformat_minor": 2
}
