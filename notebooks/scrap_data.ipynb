{
 "cells": [
  {
   "cell_type": "code",
   "execution_count": 10,
   "metadata": {},
   "outputs": [],
   "source": [
    "import os\n",
    "os.chdir('..')\n",
    "import warnings\n",
    "warnings.filterwarnings('ignore')\n",
    "import pandas as pd"
   ]
  },
  {
   "cell_type": "code",
   "execution_count": 22,
   "metadata": {},
   "outputs": [],
   "source": [
    "from scripts.scrap import start_scraping"
   ]
  },
  {
   "cell_type": "code",
   "execution_count": 23,
   "metadata": {},
   "outputs": [
    {
     "data": {
      "text/plain": [
       "<coroutine object start_scraping at 0x000001CCF2667C60>"
      ]
     },
     "execution_count": 23,
     "metadata": {},
     "output_type": "execute_result"
    }
   ],
   "source": [
    "channel = ['@DoctorsET','@lobelia4cosmetics','@yetenaweg','@EAHCI','@CheMed123']\n",
    "start_scraping(channel)"
   ]
  },
  {
   "cell_type": "markdown",
   "metadata": {},
   "source": [
    "### Scrapped datasets"
   ]
  },
  {
   "cell_type": "code",
   "execution_count": 24,
   "metadata": {},
   "outputs": [
    {
     "data": {
      "text/html": [
       "<div>\n",
       "<style scoped>\n",
       "    .dataframe tbody tr th:only-of-type {\n",
       "        vertical-align: middle;\n",
       "    }\n",
       "\n",
       "    .dataframe tbody tr th {\n",
       "        vertical-align: top;\n",
       "    }\n",
       "\n",
       "    .dataframe thead th {\n",
       "        text-align: right;\n",
       "    }\n",
       "</style>\n",
       "<table border=\"1\" class=\"dataframe\">\n",
       "  <thead>\n",
       "    <tr style=\"text-align: right;\">\n",
       "      <th></th>\n",
       "      <th>message_date</th>\n",
       "      <th>message_id</th>\n",
       "      <th>message_description</th>\n",
       "    </tr>\n",
       "  </thead>\n",
       "  <tbody>\n",
       "    <tr>\n",
       "      <th>0</th>\n",
       "      <td>2023-12-18 17:04:02</td>\n",
       "      <td>864</td>\n",
       "      <td>በቀን አንዴ ብቻ የሚባለው የቢዝነስ አማካሪ በ 10 000 ብር ብቻ የተጀ...</td>\n",
       "    </tr>\n",
       "    <tr>\n",
       "      <th>1</th>\n",
       "      <td>2023-11-03 16:14:39</td>\n",
       "      <td>863</td>\n",
       "      <td>ዶክተርስ ኢትዮጵያ በ አዲስ አቀራረብ በ ቴሌቪዥን ፕሮግራሙን ለመጀመር ከ...</td>\n",
       "    </tr>\n",
       "    <tr>\n",
       "      <th>2</th>\n",
       "      <td>2023-10-02 16:37:39</td>\n",
       "      <td>862</td>\n",
       "      <td>ሞት በስኳር ለልጆቻችን የምናሲዘው ምሳቃ ሳናቀው እድሚያቸውን ይቀንሰው ይ...</td>\n",
       "    </tr>\n",
       "    <tr>\n",
       "      <th>3</th>\n",
       "      <td>2023-09-16 07:54:32</td>\n",
       "      <td>861</td>\n",
       "      <td>ከ HIV የተፈወሰ ሰው አጋጥሟችሁ ያቃል ? ፈውስ እና ህክምና ? ሙሉ ቪ...</td>\n",
       "    </tr>\n",
       "    <tr>\n",
       "      <th>4</th>\n",
       "      <td>2023-09-01 16:16:15</td>\n",
       "      <td>860</td>\n",
       "      <td>በቅርብ ጊዜ በሃገራችን ላይ እየተስተዋለ ያለ የተመሳሳይ ፆታ Homosex...</td>\n",
       "    </tr>\n",
       "  </tbody>\n",
       "</table>\n",
       "</div>"
      ],
      "text/plain": [
       "          message_date  message_id  \\\n",
       "0  2023-12-18 17:04:02         864   \n",
       "1  2023-11-03 16:14:39         863   \n",
       "2  2023-10-02 16:37:39         862   \n",
       "3  2023-09-16 07:54:32         861   \n",
       "4  2023-09-01 16:16:15         860   \n",
       "\n",
       "                                 message_description  \n",
       "0  በቀን አንዴ ብቻ የሚባለው የቢዝነስ አማካሪ በ 10 000 ብር ብቻ የተጀ...  \n",
       "1  ዶክተርስ ኢትዮጵያ በ አዲስ አቀራረብ በ ቴሌቪዥን ፕሮግራሙን ለመጀመር ከ...  \n",
       "2  ሞት በስኳር ለልጆቻችን የምናሲዘው ምሳቃ ሳናቀው እድሚያቸውን ይቀንሰው ይ...  \n",
       "3  ከ HIV የተፈወሰ ሰው አጋጥሟችሁ ያቃል ? ፈውስ እና ህክምና ? ሙሉ ቪ...  \n",
       "4  በቅርብ ጊዜ በሃገራችን ላይ እየተስተዋለ ያለ የተመሳሳይ ፆታ Homosex...  "
      ]
     },
     "execution_count": 24,
     "metadata": {},
     "output_type": "execute_result"
    }
   ],
   "source": [
    "scrappedData = pd.read_csv('telegram_data.csv')\n",
    "\n",
    "scrappedData.head()"
   ]
  },
  {
   "cell_type": "markdown",
   "metadata": {},
   "source": [
    "### Data Cleaning"
   ]
  },
  {
   "cell_type": "code",
   "execution_count": 25,
   "metadata": {},
   "outputs": [
    {
     "data": {
      "text/plain": [
       "message_date           0\n",
       "message_id             0\n",
       "message_description    0\n",
       "dtype: int64"
      ]
     },
     "execution_count": 25,
     "metadata": {},
     "output_type": "execute_result"
    }
   ],
   "source": [
    "scrappedData.isnull().sum()"
   ]
  },
  {
   "cell_type": "code",
   "execution_count": 27,
   "metadata": {},
   "outputs": [
    {
     "data": {
      "text/html": [
       "<div>\n",
       "<style scoped>\n",
       "    .dataframe tbody tr th:only-of-type {\n",
       "        vertical-align: middle;\n",
       "    }\n",
       "\n",
       "    .dataframe tbody tr th {\n",
       "        vertical-align: top;\n",
       "    }\n",
       "\n",
       "    .dataframe thead th {\n",
       "        text-align: right;\n",
       "    }\n",
       "</style>\n",
       "<table border=\"1\" class=\"dataframe\">\n",
       "  <thead>\n",
       "    <tr style=\"text-align: right;\">\n",
       "      <th></th>\n",
       "      <th>message_date</th>\n",
       "      <th>message_id</th>\n",
       "      <th>message_description</th>\n",
       "    </tr>\n",
       "  </thead>\n",
       "  <tbody>\n",
       "    <tr>\n",
       "      <th>102</th>\n",
       "      <td>2022-12-28 06:31:50</td>\n",
       "      <td>67</td>\n",
       "      <td>Order your Power plus Vitamin and mineral supp...</td>\n",
       "    </tr>\n",
       "    <tr>\n",
       "      <th>103</th>\n",
       "      <td>2022-12-27 17:06:32</td>\n",
       "      <td>64</td>\n",
       "      <td>Che-Med Che-Med የመድሀኒትና የህክምና እቃዎች አፋላጊ እና አቅራ...</td>\n",
       "    </tr>\n",
       "    <tr>\n",
       "      <th>104</th>\n",
       "      <td>2022-12-25 15:46:05</td>\n",
       "      <td>62</td>\n",
       "      <td>የምስራች ከChe-Med ።።።።።።Che-Med አስታዋሽ።።።።።። Che-M...</td>\n",
       "    </tr>\n",
       "    <tr>\n",
       "      <th>105</th>\n",
       "      <td>2022-12-23 06:26:15</td>\n",
       "      <td>60</td>\n",
       "      <td>ቀጠሮ ያስይዙ በ ጥሪ ማዕከላችን 9798 በመደወል የዕንቅርት ህመም መቆጣ...</td>\n",
       "    </tr>\n",
       "    <tr>\n",
       "      <th>106</th>\n",
       "      <td>2022-12-22 06:40:25</td>\n",
       "      <td>59</td>\n",
       "      <td>ቀጠሮ ያስይዙ በ ጥሪ ማዕከላችን 9798 በመደወል የግፊት መድሃኒትዎን በ...</td>\n",
       "    </tr>\n",
       "  </tbody>\n",
       "</table>\n",
       "</div>"
      ],
      "text/plain": [
       "            message_date  message_id  \\\n",
       "102  2022-12-28 06:31:50          67   \n",
       "103  2022-12-27 17:06:32          64   \n",
       "104  2022-12-25 15:46:05          62   \n",
       "105  2022-12-23 06:26:15          60   \n",
       "106  2022-12-22 06:40:25          59   \n",
       "\n",
       "                                   message_description  \n",
       "102  Order your Power plus Vitamin and mineral supp...  \n",
       "103  Che-Med Che-Med የመድሀኒትና የህክምና እቃዎች አፋላጊ እና አቅራ...  \n",
       "104  የምስራች ከChe-Med ።።።።።።Che-Med አስታዋሽ።።።።።። Che-M...  \n",
       "105  ቀጠሮ ያስይዙ በ ጥሪ ማዕከላችን 9798 በመደወል የዕንቅርት ህመም መቆጣ...  \n",
       "106  ቀጠሮ ያስይዙ በ ጥሪ ማዕከላችን 9798 በመደወል የግፊት መድሃኒትዎን በ...  "
      ]
     },
     "execution_count": 27,
     "metadata": {},
     "output_type": "execute_result"
    }
   ],
   "source": [
    "scrappedData.drop_duplicates(inplace=True)\n",
    "scrappedData.dropna(inplace=True)\n",
    "\n",
    "scrappedData.tail()"
   ]
  },
  {
   "cell_type": "markdown",
   "metadata": {},
   "source": [
    "## Object Detection Using YOLO"
   ]
  },
  {
   "cell_type": "code",
   "execution_count": 7,
   "metadata": {},
   "outputs": [
    {
     "name": "stdout",
     "output_type": "stream",
     "text": [
      "Attempting to open file: C:\\Users\\Semir AI Legend\\Desktop\\Ethio-medical-data-warehouse\\yolov5\\runs\\detect\\exp\\labels\\bus.txt\n",
      "Class ID: 0, Conf: 0.534941\n",
      "Class ID: 5, Conf: 0.849334\n",
      "Class ID: 0, Conf: 0.851563\n",
      "Class ID: 0, Conf: 0.870248\n",
      "Class ID: 0, Conf: 0.896172\n",
      "Attempting to open file: C:\\Users\\Semir AI Legend\\Desktop\\Ethio-medical-data-warehouse\\yolov5\\runs\\detect\\exp\\labels\\zidane.txt\n",
      "Class ID: 0, Conf: 0.666693\n",
      "Class ID: 27, Conf: 0.675119\n",
      "Class ID: 0, Conf: 0.879861\n"
     ]
    }
   ],
   "source": [
    "import os\n",
    "\n",
    "directory = r'C:\\Users\\Semir AI Legend\\Desktop\\Ethio-medical-data-warehouse\\yolov5\\runs\\detect\\exp\\labels'\n",
    "for filename in os.listdir(directory):\n",
    "    if filename.endswith('.txt'):  # Process only .txt files\n",
    "        file_path = os.path.join(directory, filename)  # Construct the full file path\n",
    "        print(f\"Attempting to open file: {file_path}\")\n",
    "        try:\n",
    "            with open(file_path) as f:\n",
    "                for line in f:\n",
    "                    class_id, x_center, y_center, width, height, conf = line.strip().split()\n",
    "                    print(f\"Class ID: {class_id}, Conf: {conf}\")  # Example processing\n",
    "        except FileNotFoundError:\n",
    "            print(f\"File {file_path} not found.\")\n"
   ]
  },
  {
   "cell_type": "code",
   "execution_count": 14,
   "metadata": {},
   "outputs": [
    {
     "name": "stdout",
     "output_type": "stream",
     "text": [
      "Detection results saved to 'detection_results.csv'.\n"
     ]
    }
   ],
   "source": [
    "import os\n",
    "import pandas as pd\n",
    "\n",
    "# Define the directory where the label files are stored\n",
    "directory = r'C:\\Users\\Semir AI Legend\\Desktop\\Ethio-medical-data-warehouse\\yolov5\\runs\\detect\\exp\\labels'\n",
    "\n",
    "# Initialize an empty list to store the results\n",
    "results = []\n",
    "\n",
    "# Loop through all files in the directory\n",
    "for filename in os.listdir(directory):\n",
    "    if filename.endswith('.txt'):  # Process only .txt files\n",
    "        file_path = os.path.join(directory, filename)  # Full path for the file\n",
    "        try:\n",
    "            with open(file_path) as f:\n",
    "                for line in f:\n",
    "                    # Extract values from each line in the text file\n",
    "                    class_id, x_center, y_center, width, height, conf = line.strip().split()\n",
    "                    # Append the data along with the filename (image name) to the results list\n",
    "                    results.append([filename, class_id, x_center, y_center, width, height, conf])\n",
    "        except FileNotFoundError:\n",
    "            print(f\"File {filename} not found. Skipping.\")\n",
    "        except Exception as e:\n",
    "            print(f\"Error reading {filename}: {e}\")\n",
    "\n",
    "# Create a DataFrame from the results list\n",
    "df = pd.DataFrame(results, columns=['Image', 'Class', 'X_Center', 'Y_Center', 'Width', 'Height', 'Confidence'])\n",
    "\n",
    "# Save the results to a CSV file\n",
    "df.to_csv('detection_results.csv', index=False)\n",
    "\n",
    "print(\"Detection results saved to 'detection_results.csv'.\")"
   ]
  },
  {
   "cell_type": "code",
   "execution_count": 15,
   "metadata": {},
   "outputs": [],
   "source": [
    "df = pd.DataFrame(results, columns=['Image', 'Class', 'X_Center', 'Y_Center', 'Width', 'Height', 'Confidence'])\n",
    "df.to_csv('detection_results.csv', index=False)"
   ]
  },
  {
   "cell_type": "code",
   "execution_count": 16,
   "metadata": {},
   "outputs": [
    {
     "data": {
      "text/html": [
       "<div>\n",
       "<style scoped>\n",
       "    .dataframe tbody tr th:only-of-type {\n",
       "        vertical-align: middle;\n",
       "    }\n",
       "\n",
       "    .dataframe tbody tr th {\n",
       "        vertical-align: top;\n",
       "    }\n",
       "\n",
       "    .dataframe thead th {\n",
       "        text-align: right;\n",
       "    }\n",
       "</style>\n",
       "<table border=\"1\" class=\"dataframe\">\n",
       "  <thead>\n",
       "    <tr style=\"text-align: right;\">\n",
       "      <th></th>\n",
       "      <th>Image</th>\n",
       "      <th>Class</th>\n",
       "      <th>X_Center</th>\n",
       "      <th>Y_Center</th>\n",
       "      <th>Width</th>\n",
       "      <th>Height</th>\n",
       "      <th>Confidence</th>\n",
       "    </tr>\n",
       "  </thead>\n",
       "  <tbody>\n",
       "    <tr>\n",
       "      <th>0</th>\n",
       "      <td>bus.txt</td>\n",
       "      <td>0</td>\n",
       "      <td>0.041975</td>\n",
       "      <td>0.660648</td>\n",
       "      <td>0.083951</td>\n",
       "      <td>0.299074</td>\n",
       "      <td>0.534941</td>\n",
       "    </tr>\n",
       "    <tr>\n",
       "      <th>1</th>\n",
       "      <td>bus.txt</td>\n",
       "      <td>5</td>\n",
       "      <td>0.508025</td>\n",
       "      <td>0.468519</td>\n",
       "      <td>0.983951</td>\n",
       "      <td>0.524074</td>\n",
       "      <td>0.849334</td>\n",
       "    </tr>\n",
       "    <tr>\n",
       "      <th>2</th>\n",
       "      <td>bus.txt</td>\n",
       "      <td>0</td>\n",
       "      <td>0.183333</td>\n",
       "      <td>0.602778</td>\n",
       "      <td>0.245679</td>\n",
       "      <td>0.483333</td>\n",
       "      <td>0.851563</td>\n",
       "    </tr>\n",
       "    <tr>\n",
       "      <th>3</th>\n",
       "      <td>bus.txt</td>\n",
       "      <td>0</td>\n",
       "      <td>0.350000</td>\n",
       "      <td>0.590278</td>\n",
       "      <td>0.154321</td>\n",
       "      <td>0.425000</td>\n",
       "      <td>0.870248</td>\n",
       "    </tr>\n",
       "    <tr>\n",
       "      <th>4</th>\n",
       "      <td>bus.txt</td>\n",
       "      <td>0</td>\n",
       "      <td>0.914815</td>\n",
       "      <td>0.589352</td>\n",
       "      <td>0.170370</td>\n",
       "      <td>0.447222</td>\n",
       "      <td>0.896172</td>\n",
       "    </tr>\n",
       "  </tbody>\n",
       "</table>\n",
       "</div>"
      ],
      "text/plain": [
       "     Image  Class  X_Center  Y_Center     Width    Height  Confidence\n",
       "0  bus.txt      0  0.041975  0.660648  0.083951  0.299074    0.534941\n",
       "1  bus.txt      5  0.508025  0.468519  0.983951  0.524074    0.849334\n",
       "2  bus.txt      0  0.183333  0.602778  0.245679  0.483333    0.851563\n",
       "3  bus.txt      0  0.350000  0.590278  0.154321  0.425000    0.870248\n",
       "4  bus.txt      0  0.914815  0.589352  0.170370  0.447222    0.896172"
      ]
     },
     "execution_count": 16,
     "metadata": {},
     "output_type": "execute_result"
    }
   ],
   "source": [
    "detectedImage= pd.read_csv('detection_results.csv')\n",
    "detectedImage.head()"
   ]
  }
 ],
 "metadata": {
  "kernelspec": {
   "display_name": "venv",
   "language": "python",
   "name": "python3"
  },
  "language_info": {
   "codemirror_mode": {
    "name": "ipython",
    "version": 3
   },
   "file_extension": ".py",
   "mimetype": "text/x-python",
   "name": "python",
   "nbconvert_exporter": "python",
   "pygments_lexer": "ipython3",
   "version": "3.13.1"
  }
 },
 "nbformat": 4,
 "nbformat_minor": 2
}
